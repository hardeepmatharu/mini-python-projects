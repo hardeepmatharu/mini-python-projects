{
 "cells": [
  {
   "cell_type": "code",
   "execution_count": 34,
   "id": "660c4080-043c-4be7-b32c-5d6295082b24",
   "metadata": {},
   "outputs": [],
   "source": [
    "class Grand_parent:\n",
    "    def __init__(self, arg):\n",
    "        print('This is Grand parent class')\n",
    "        self.arg = arg\n",
    "    def grand_parent_func(self, arg):\n",
    "        print('This is grand parent', arg)\n",
    "        self.arg = arg\n"
   ]
  },
  {
   "cell_type": "code",
   "execution_count": 35,
   "id": "ebdc82f4-13b3-4f03-a343-f10ee1628a30",
   "metadata": {},
   "outputs": [],
   "source": [
    "class Parent(Grand_parent):\n",
    "    def __init__(self, arg):\n",
    "        print('This is Parent class')\n",
    "        Grand_parent.__init__(self,arg)\n",
    "        self.arg = arg\n",
    "    def parent_func(self, arg):\n",
    "        print('This is parent', arg)\n",
    "        self.arg = arg\n",
    "\n",
    "    "
   ]
  },
  {
   "cell_type": "code",
   "execution_count": 36,
   "id": "07eb9cfe-e99f-4a78-b8ad-d17944a2eeeb",
   "metadata": {},
   "outputs": [],
   "source": [
    "class Son(Parent):\n",
    "    def __init__(self, arg):\n",
    "        print('This is Son class')\n",
    "        Parent.__init__(self,arg) # access the constructor of Parent class\n",
    "        Grand_parent.__init__(self, arg) # access the constructor of Grand parent class\n",
    "        self.arg = arg\n",
    "    def son_func(self,arg):\n",
    "        print('This is son', arg)\n",
    "        self.arg = arg"
   ]
  },
  {
   "cell_type": "code",
   "execution_count": 37,
   "id": "b9ea3ec5-f227-46a5-9fe3-31a380c923e9",
   "metadata": {},
   "outputs": [
    {
     "name": "stdout",
     "output_type": "stream",
     "text": [
      "This is Son class\n",
      "This is Parent class\n",
      "This is Grand parent class\n",
      "This is Grand parent class\n"
     ]
    }
   ],
   "source": [
    "s1 = Son('arg')"
   ]
  },
  {
   "cell_type": "code",
   "execution_count": 38,
   "id": "40cf313e-4f9b-4e20-9940-3778fb1663fe",
   "metadata": {},
   "outputs": [
    {
     "name": "stdout",
     "output_type": "stream",
     "text": [
      "This is son arg_son\n"
     ]
    }
   ],
   "source": [
    "s1.son_func('arg_son')"
   ]
  },
  {
   "cell_type": "code",
   "execution_count": 39,
   "id": "b8c0bca5-204a-4843-b921-6484d7bf8193",
   "metadata": {},
   "outputs": [
    {
     "name": "stdout",
     "output_type": "stream",
     "text": [
      "This is parent parent_arg\n"
     ]
    }
   ],
   "source": [
    "s1.parent_func('parent_arg')"
   ]
  },
  {
   "cell_type": "code",
   "execution_count": 40,
   "id": "97f5108e-2da9-4c60-9f43-ac7ce7b3887a",
   "metadata": {},
   "outputs": [
    {
     "name": "stdout",
     "output_type": "stream",
     "text": [
      "This is grand parent arg_grand_parent\n"
     ]
    }
   ],
   "source": [
    "s1.grand_parent_func('arg_grand_parent')"
   ]
  },
  {
   "cell_type": "code",
   "execution_count": 41,
   "id": "3d56d48d-0f86-420c-9dda-4408d79f4b80",
   "metadata": {},
   "outputs": [
    {
     "name": "stdout",
     "output_type": "stream",
     "text": [
      "This is Parent class\n",
      "This is Grand parent class\n"
     ]
    }
   ],
   "source": [
    "p1 = Parent('arg')"
   ]
  },
  {
   "cell_type": "code",
   "execution_count": 42,
   "id": "c285f4fe-8112-400f-9a3c-d6665490df20",
   "metadata": {},
   "outputs": [
    {
     "name": "stdout",
     "output_type": "stream",
     "text": [
      "This is parent par\n"
     ]
    }
   ],
   "source": [
    "p1.parent_func('par')"
   ]
  },
  {
   "cell_type": "code",
   "execution_count": 24,
   "id": "acdedd5c-b325-4ced-b4eb-a0072a1773fc",
   "metadata": {},
   "outputs": [
    {
     "name": "stdout",
     "output_type": "stream",
     "text": [
      "grand parent class\n"
     ]
    }
   ],
   "source": [
    "g1 = Grand_parent('arg')"
   ]
  },
  {
   "cell_type": "code",
   "execution_count": null,
   "id": "b818c07a-fdd7-4545-a849-a92770f71a47",
   "metadata": {},
   "outputs": [],
   "source": []
  }
 ],
 "metadata": {
  "kernelspec": {
   "display_name": "Python 3 (ipykernel)",
   "language": "python",
   "name": "python3"
  },
  "language_info": {
   "codemirror_mode": {
    "name": "ipython",
    "version": 3
   },
   "file_extension": ".py",
   "mimetype": "text/x-python",
   "name": "python",
   "nbconvert_exporter": "python",
   "pygments_lexer": "ipython3",
   "version": "3.8.10"
  }
 },
 "nbformat": 4,
 "nbformat_minor": 5
}
