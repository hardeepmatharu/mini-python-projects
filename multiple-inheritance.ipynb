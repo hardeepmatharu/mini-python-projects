{
 "cells": [
  {
   "cell_type": "code",
   "execution_count": 166,
   "id": "9a281281-7e7c-4ffe-89ca-dfba4adafe0c",
   "metadata": {},
   "outputs": [],
   "source": [
    "class Parent1:\n",
    "    def __init__(self, string1):\n",
    "        print('Parent 1')\n",
    "        self.string1 = string1\n",
    "    def show_string1(self):\n",
    "        print('Show String1', self.string1)\n",
    "        "
   ]
  },
  {
   "cell_type": "code",
   "execution_count": 167,
   "id": "586ecaea-0a76-4d3f-b13d-e42810284c49",
   "metadata": {},
   "outputs": [],
   "source": [
    "class Parent2:\n",
    "    def __init__(self, string2):\n",
    "        print('Parent 2')\n",
    "        self.string2 = string2\n",
    "    def show_string2(self):\n",
    "        print('Show String2', self.string2)"
   ]
  },
  {
   "cell_type": "code",
   "execution_count": 178,
   "id": "da71c9e5-fa14-483e-ad7e-4fa62946b0e1",
   "metadata": {},
   "outputs": [],
   "source": [
    "class Derived(Parent2, Parent1):\n",
    "    def __init__(self,string1, string2, string3):\n",
    "        print('Parent 3')\n",
    "        super().__init__(string2) # this refers to the first class specified in sequence while inheriting(class1, class2)\n",
    "        super(Parent2, self).__init__(string1)\n",
    "        self.string3  = string3\n",
    "    def show_derived(self):\n",
    "        print('Show derived class', self.string1, self.string2, self.string3)"
   ]
  },
  {
   "cell_type": "code",
   "execution_count": 179,
   "id": "53e97783-b376-428a-9d30-cb9dc4b10a61",
   "metadata": {},
   "outputs": [
    {
     "name": "stdout",
     "output_type": "stream",
     "text": [
      "Parent 3\n",
      "Parent 2\n",
      "Parent 1\n"
     ]
    }
   ],
   "source": [
    "d1 = Derived('str1','str2','str3')"
   ]
  },
  {
   "cell_type": "code",
   "execution_count": 136,
   "id": "f4dcdcb0-9067-48b4-9b3a-17543d8b8937",
   "metadata": {},
   "outputs": [
    {
     "name": "stdout",
     "output_type": "stream",
     "text": [
      "Show String1 str1\n"
     ]
    }
   ],
   "source": [
    "d1.show_string1()"
   ]
  },
  {
   "cell_type": "code",
   "execution_count": 137,
   "id": "10d6badb-b90d-472f-8360-d1a3e9d35fbb",
   "metadata": {},
   "outputs": [
    {
     "name": "stdout",
     "output_type": "stream",
     "text": [
      "Show String2 str2\n"
     ]
    }
   ],
   "source": [
    "d1.show_string2()"
   ]
  },
  {
   "cell_type": "code",
   "execution_count": 138,
   "id": "2506c52a-0356-442d-a0aa-b57bc34afcd2",
   "metadata": {},
   "outputs": [
    {
     "name": "stdout",
     "output_type": "stream",
     "text": [
      "Show derived class str1 str2 str3\n"
     ]
    }
   ],
   "source": [
    "d1.show_derived()"
   ]
  },
  {
   "cell_type": "code",
   "execution_count": 164,
   "id": "16571052-2e85-4f98-8d42-ef46408e71dc",
   "metadata": {},
   "outputs": [],
   "source": [
    "class Base1:\n",
    "    def __init__(self, arg1):\n",
    "        print('The args of base 1 are ', arg1)\n",
    "        self.arg1 = arg1\n",
    "class Base2:\n",
    "    def __init__(self, arg2):\n",
    "        print('The args of base 2 are ',arg2)\n",
    "        self.arg2 = arg2\n",
    "class Base3(Base1, Base2):\n",
    "    def __init__(self, arg1, arg2, arg3):\n",
    "        print('the args of base 3 are ', arg3)\n",
    "        Base2.__init__(self,arg2)\n",
    "        Base1.__init__(self,arg1)\n",
    "        \n",
    "        self.arg3 = arg3\n"
   ]
  },
  {
   "cell_type": "code",
   "execution_count": 165,
   "id": "f60a6cd3-9dab-4603-b38f-9e6554104303",
   "metadata": {},
   "outputs": [
    {
     "name": "stdout",
     "output_type": "stream",
     "text": [
      "the args of base 3 are  arg3\n",
      "The args of base 2 are  arg2\n",
      "The args of base 1 are  arg1\n"
     ]
    }
   ],
   "source": [
    "b3 = Base3('arg1','arg2','arg3')"
   ]
  },
  {
   "cell_type": "code",
   "execution_count": 155,
   "id": "b21e0b25-2e57-4ae8-9644-e1623448b53b",
   "metadata": {},
   "outputs": [
    {
     "name": "stdout",
     "output_type": "stream",
     "text": [
      "Constructor C\n",
      "(<class '__main__.C'>, <class '__main__.A'>, <class '__main__.B'>, <class 'object'>)\n",
      "[<class '__main__.C'>, <class '__main__.A'>, <class '__main__.B'>, <class 'object'>]\n"
     ]
    }
   ],
   "source": [
    "# Python program to show the order\n",
    "# in which methods are resolved\n",
    "\n",
    "class A:\n",
    "    def rk(self):\n",
    "        print(\"In class A\")\n",
    "\n",
    "class B:\n",
    "    def rk(self):\n",
    "        print(\"In class B\")\n",
    "\n",
    "# classes ordering\n",
    "class C(A, B):\n",
    "    def __init__(self):\n",
    "        print(\"Constructor C\")\n",
    "\n",
    "r = C()\n",
    "\n",
    "# it prints the lookup order \n",
    "print(C.__mro__)\n",
    "print(C.mro())\n"
   ]
  },
  {
   "cell_type": "code",
   "execution_count": null,
   "id": "63e8ffd2-17db-4ade-89a9-5ecab4f5df7f",
   "metadata": {},
   "outputs": [],
   "source": []
  }
 ],
 "metadata": {
  "kernelspec": {
   "display_name": "Python 3 (ipykernel)",
   "language": "python",
   "name": "python3"
  },
  "language_info": {
   "codemirror_mode": {
    "name": "ipython",
    "version": 3
   },
   "file_extension": ".py",
   "mimetype": "text/x-python",
   "name": "python",
   "nbconvert_exporter": "python",
   "pygments_lexer": "ipython3",
   "version": "3.8.10"
  }
 },
 "nbformat": 4,
 "nbformat_minor": 5
}
